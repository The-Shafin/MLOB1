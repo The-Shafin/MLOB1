{
 "cells": [
  {
   "cell_type": "markdown",
   "metadata": {},
   "source": [
    "This notebook is collected from [Here](https://github.com/krishnaik06/Complete-Python-Bootcamp/tree/main).\n"
   ]
  },
  {
   "cell_type": "markdown",
   "metadata": {},
   "source": [
    "#### Introduction To Lists\n",
    "- Lists are ordered, mutable collections of items.\n",
    "- They can contain items of different data types."
   ]
  },
  {
   "cell_type": "markdown",
   "metadata": {},
   "source": [
    "##### Video Outline:\n",
    "1. Introduction to Lists\n",
    "2. Creating Lists\n",
    "3. Accessing List Elements\n",
    "4. Modifying List Elements\n",
    "5. List Methods\n",
    "6. Slicing Lists\n",
    "7. Iterating Over Lists\n",
    "8. List Comprehensions\n",
    "9. Nested Lists\n",
    "10. Practical Examples and Common Errors"
   ]
  },
  {
   "cell_type": "code",
   "execution_count": 121,
   "metadata": {},
   "outputs": [
    {
     "name": "stdout",
     "output_type": "stream",
     "text": [
      "<class 'list'>\n",
      "['S', 'h', 'a', 'i', 'f', 'u', 'l']\n"
     ]
    }
   ],
   "source": [
    "name = \"Shaiful\"\n",
    "name = list(name)\n",
    "print(type(name))\n",
    "print(name)"
   ]
  },
  {
   "cell_type": "code",
   "execution_count": 122,
   "metadata": {},
   "outputs": [
    {
     "data": {
      "text/plain": [
       "str"
      ]
     },
     "execution_count": 122,
     "metadata": {},
     "output_type": "execute_result"
    }
   ],
   "source": [
    "khichuri = [1, 3, \"chal\", \"dal\", 1.5, True]\n",
    "type(khichuri[2])"
   ]
  },
  {
   "cell_type": "code",
   "execution_count": 123,
   "metadata": {},
   "outputs": [
    {
     "name": "stdout",
     "output_type": "stream",
     "text": [
      "<class 'list'>\n"
     ]
    }
   ],
   "source": [
    "lst=[]\n",
    "print(type(lst))"
   ]
  },
  {
   "cell_type": "code",
   "execution_count": 124,
   "metadata": {},
   "outputs": [
    {
     "name": "stdout",
     "output_type": "stream",
     "text": [
      "['Akash', 'Batash', 'Jomin', 1, 2, 3, 4, 5]\n"
     ]
    }
   ],
   "source": [
    "names=[\"Akash\",\"Batash\",\"Jomin\",1,2,3,4,5]\n",
    "print(names)"
   ]
  },
  {
   "cell_type": "code",
   "execution_count": 125,
   "metadata": {},
   "outputs": [
    {
     "name": "stdout",
     "output_type": "stream",
     "text": [
      "[1, 'khichuri', 3.14, True]\n"
     ]
    }
   ],
   "source": [
    "mixed_list=[1,\"khichuri\",3.14,True]\n",
    "print(mixed_list)"
   ]
  },
  {
   "cell_type": "code",
   "execution_count": 126,
   "metadata": {},
   "outputs": [],
   "source": [
    "### Accessing List Elements\n",
    "\n",
    "fruits=[\"apple\",\"banana\",\"cherry\",\"kiwi\",\"gauva\"]"
   ]
  },
  {
   "cell_type": "code",
   "execution_count": 127,
   "metadata": {},
   "outputs": [
    {
     "data": {
      "text/plain": [
       "['apple', 'banana', 'cherry', 'kiwi']"
      ]
     },
     "execution_count": 127,
     "metadata": {},
     "output_type": "execute_result"
    }
   ],
   "source": [
    "fruits[:4]"
   ]
  },
  {
   "cell_type": "code",
   "execution_count": 128,
   "metadata": {},
   "outputs": [
    {
     "name": "stdout",
     "output_type": "stream",
     "text": [
      "apple\n",
      "cherry\n",
      "gauva\n",
      "gauva\n"
     ]
    }
   ],
   "source": [
    "print(fruits[0])\n",
    "print(fruits[2])\n",
    "print(fruits[4])\n",
    "print(fruits[-1])\n"
   ]
  },
  {
   "cell_type": "code",
   "execution_count": 129,
   "metadata": {},
   "outputs": [
    {
     "name": "stdout",
     "output_type": "stream",
     "text": [
      "gauva\n"
     ]
    }
   ],
   "source": [
    "print(fruits[-1])"
   ]
  },
  {
   "cell_type": "code",
   "execution_count": 130,
   "metadata": {},
   "outputs": [
    {
     "name": "stdout",
     "output_type": "stream",
     "text": [
      "['banana', 'cherry', 'kiwi', 'gauva']\n",
      "['banana', 'cherry']\n"
     ]
    }
   ],
   "source": [
    "print(fruits[1:])\n",
    "print(fruits[1:3])"
   ]
  },
  {
   "cell_type": "code",
   "execution_count": 131,
   "metadata": {},
   "outputs": [
    {
     "data": {
      "text/plain": [
       "['apple', 'banana', 'cherry', 'kiwi', 'gauva']"
      ]
     },
     "execution_count": 131,
     "metadata": {},
     "output_type": "execute_result"
    }
   ],
   "source": [
    "## Modifying The List elements\n",
    "fruits"
   ]
  },
  {
   "cell_type": "code",
   "execution_count": 132,
   "metadata": {},
   "outputs": [
    {
     "name": "stdout",
     "output_type": "stream",
     "text": [
      "['apple', 'watermelon', 'cherry', 'kiwi', 'gauva']\n"
     ]
    }
   ],
   "source": [
    "fruits[1]=\"watermelon\"\n",
    "print(fruits)"
   ]
  },
  {
   "cell_type": "code",
   "execution_count": 133,
   "metadata": {},
   "outputs": [],
   "source": [
    "fruits = ['apple', 'watermelon', 'cherry', 'kiwi', 'gauva']"
   ]
  },
  {
   "cell_type": "code",
   "execution_count": 134,
   "metadata": {},
   "outputs": [],
   "source": [
    "fruits[1:4]=\"watermelon\""
   ]
  },
  {
   "cell_type": "code",
   "execution_count": 135,
   "metadata": {},
   "outputs": [
    {
     "data": {
      "text/plain": [
       "['apple', 'w', 'a', 't', 'e', 'r', 'm', 'e', 'l', 'o', 'n', 'gauva']"
      ]
     },
     "execution_count": 135,
     "metadata": {},
     "output_type": "execute_result"
    }
   ],
   "source": [
    "fruits"
   ]
  },
  {
   "cell_type": "code",
   "execution_count": 136,
   "metadata": {},
   "outputs": [],
   "source": [
    "fruits=[\"apple\",\"banana\",\"cherry\",\"kiwi\",\"gauva\"]"
   ]
  },
  {
   "cell_type": "code",
   "execution_count": 137,
   "metadata": {},
   "outputs": [
    {
     "name": "stdout",
     "output_type": "stream",
     "text": [
      "['apple', 'banana', 'cherry', 'kiwi', 'gauva', 'orange']\n"
     ]
    }
   ],
   "source": [
    "## List Methods\n",
    "\n",
    "fruits.append(\"orange\") ## Add an item to the end\n",
    "print(fruits)"
   ]
  },
  {
   "cell_type": "code",
   "execution_count": 138,
   "metadata": {},
   "outputs": [
    {
     "name": "stdout",
     "output_type": "stream",
     "text": [
      "['apple', 'watermelon', 'banana', 'cherry', 'kiwi', 'gauva', 'orange']\n"
     ]
    }
   ],
   "source": [
    "fruits.insert(1,\"watermelon\")\n",
    "print(fruits)"
   ]
  },
  {
   "cell_type": "code",
   "execution_count": 139,
   "metadata": {},
   "outputs": [
    {
     "name": "stdout",
     "output_type": "stream",
     "text": [
      "['apple', 'watermelon', 'cherry', 'kiwi', 'gauva', 'orange']\n"
     ]
    }
   ],
   "source": [
    "fruits.remove(\"banana\") ## Removing the first occurance of an item\n",
    "print(fruits)"
   ]
  },
  {
   "cell_type": "code",
   "execution_count": 140,
   "metadata": {},
   "outputs": [
    {
     "name": "stdout",
     "output_type": "stream",
     "text": [
      "orange\n",
      "['apple', 'watermelon', 'cherry', 'kiwi', 'gauva']\n"
     ]
    }
   ],
   "source": [
    "## Remove and return the last element\n",
    "popped_fruits=fruits.pop()\n",
    "print(popped_fruits)\n",
    "print(fruits)"
   ]
  },
  {
   "cell_type": "code",
   "execution_count": 141,
   "metadata": {},
   "outputs": [
    {
     "name": "stdout",
     "output_type": "stream",
     "text": [
      "2\n"
     ]
    }
   ],
   "source": [
    "index=fruits.index(\"cherry\")\n",
    "print(index)"
   ]
  },
  {
   "cell_type": "code",
   "execution_count": 142,
   "metadata": {},
   "outputs": [
    {
     "name": "stdout",
     "output_type": "stream",
     "text": [
      "1\n"
     ]
    }
   ],
   "source": [
    "fruits.insert(2,\"banana\")\n",
    "print(fruits.count(\"banana\"))"
   ]
  },
  {
   "cell_type": "code",
   "execution_count": 143,
   "metadata": {},
   "outputs": [
    {
     "data": {
      "text/plain": [
       "['apple', 'watermelon', 'banana', 'cherry', 'kiwi', 'gauva']"
      ]
     },
     "execution_count": 143,
     "metadata": {},
     "output_type": "execute_result"
    }
   ],
   "source": [
    "fruits"
   ]
  },
  {
   "cell_type": "code",
   "execution_count": 144,
   "metadata": {},
   "outputs": [],
   "source": [
    "fruits.sort() ## SSorts the list in ascending order"
   ]
  },
  {
   "cell_type": "code",
   "execution_count": 145,
   "metadata": {},
   "outputs": [
    {
     "data": {
      "text/plain": [
       "['apple', 'banana', 'cherry', 'gauva', 'kiwi', 'watermelon']"
      ]
     },
     "execution_count": 145,
     "metadata": {},
     "output_type": "execute_result"
    }
   ],
   "source": [
    "fruits"
   ]
  },
  {
   "cell_type": "code",
   "execution_count": 146,
   "metadata": {},
   "outputs": [],
   "source": [
    "fruits.reverse() ## REverse the list"
   ]
  },
  {
   "cell_type": "code",
   "execution_count": 147,
   "metadata": {},
   "outputs": [
    {
     "data": {
      "text/plain": [
       "['watermelon', 'kiwi', 'gauva', 'cherry', 'banana', 'apple']"
      ]
     },
     "execution_count": 147,
     "metadata": {},
     "output_type": "execute_result"
    }
   ],
   "source": [
    "fruits"
   ]
  },
  {
   "cell_type": "code",
   "execution_count": 148,
   "metadata": {},
   "outputs": [
    {
     "name": "stdout",
     "output_type": "stream",
     "text": [
      "[]\n"
     ]
    }
   ],
   "source": [
    "fruits.clear() ## Remove all items from the list\n",
    "\n",
    "print(fruits)"
   ]
  },
  {
   "cell_type": "code",
   "execution_count": 149,
   "metadata": {},
   "outputs": [
    {
     "ename": "ValueError",
     "evalue": "'cherry' is not in list",
     "output_type": "error",
     "traceback": [
      "\u001b[31m---------------------------------------------------------------------------\u001b[39m",
      "\u001b[31mValueError\u001b[39m                                Traceback (most recent call last)",
      "\u001b[36mCell\u001b[39m\u001b[36m \u001b[39m\u001b[32mIn[149]\u001b[39m\u001b[32m, line 1\u001b[39m\n\u001b[32m----> \u001b[39m\u001b[32m1\u001b[39m index=\u001b[43mfruits\u001b[49m\u001b[43m.\u001b[49m\u001b[43mindex\u001b[49m\u001b[43m(\u001b[49m\u001b[33;43m\"\u001b[39;49m\u001b[33;43mcherry\u001b[39;49m\u001b[33;43m\"\u001b[39;49m\u001b[43m)\u001b[49m\n\u001b[32m      2\u001b[39m \u001b[38;5;28mprint\u001b[39m(index)\n\u001b[32m      3\u001b[39m \u001b[38;5;28mprint\u001b[39m(\u001b[38;5;28msum\u001b[39m(numbers))\n",
      "\u001b[31mValueError\u001b[39m: 'cherry' is not in list"
     ]
    }
   ],
   "source": [
    "index=fruits.index(\"cherry\")\n",
    "print(index)\n",
    "print(sum(numbers))\n",
    "print(numbers[2:5])\n",
    "print(numbers[:5])\n",
    "print(numbers[5:])\n",
    "print(numbers[::2])\n",
    "print(numbers[::-1])"
   ]
  },
  {
   "cell_type": "code",
   "execution_count": null,
   "metadata": {},
   "outputs": [],
   "source": [
    "numbers = [1,2,3,4,5,6,7,7,8,99,90,354]"
   ]
  },
  {
   "cell_type": "code",
   "execution_count": null,
   "metadata": {},
   "outputs": [
    {
     "data": {
      "text/plain": [
       "[1, 4, 7, 99]"
      ]
     },
     "execution_count": 34,
     "metadata": {},
     "output_type": "execute_result"
    }
   ],
   "source": [
    "numbers[::3]"
   ]
  },
  {
   "cell_type": "code",
   "execution_count": null,
   "metadata": {},
   "outputs": [
    {
     "data": {
      "text/plain": [
       "[354, 99, 7, 6, 4, 2]"
      ]
     },
     "execution_count": 35,
     "metadata": {},
     "output_type": "execute_result"
    }
   ],
   "source": [
    "numbers[-2::-2]"
   ]
  },
  {
   "cell_type": "code",
   "execution_count": null,
   "metadata": {},
   "outputs": [
    {
     "name": "stdout",
     "output_type": "stream",
     "text": [
      "1 2 3 4 5 6 7 7 8 99 90 354 "
     ]
    }
   ],
   "source": [
    "### Iterating Over List\n",
    "\n",
    "for i in numbers:\n",
    "    print(i, end=' ')"
   ]
  },
  {
   "cell_type": "code",
   "execution_count": null,
   "metadata": {},
   "outputs": [
    {
     "name": "stdout",
     "output_type": "stream",
     "text": [
      "0 1\n",
      "1 2\n",
      "2 3\n",
      "3 4\n",
      "4 5\n",
      "5 6\n",
      "6 7\n",
      "7 7\n",
      "8 8\n",
      "9 99\n",
      "10 90\n",
      "11 354\n"
     ]
    }
   ],
   "source": [
    "## Iterating with index\n",
    "for index,number in enumerate(numbers):\n",
    "    print(index,number)\n",
    "    "
   ]
  },
  {
   "cell_type": "code",
   "execution_count": null,
   "metadata": {},
   "outputs": [
    {
     "name": "stdout",
     "output_type": "stream",
     "text": [
      "[0, 1, 4, 9, 16, 25, 36, 49, 64, 81]\n"
     ]
    }
   ],
   "source": [
    "## List comprehension\n",
    "lst=[]\n",
    "for x in range(10):\n",
    "    lst.append(x**2)\n",
    "\n",
    "print(lst)\n"
   ]
  },
  {
   "cell_type": "code",
   "execution_count": null,
   "metadata": {},
   "outputs": [
    {
     "data": {
      "text/plain": [
       "[6, 8, 10, 12, 14]"
      ]
     },
     "execution_count": 46,
     "metadata": {},
     "output_type": "execute_result"
    }
   ],
   "source": [
    "[x+5 for x in range(1,11) if x%2==1]\n"
   ]
  },
  {
   "cell_type": "markdown",
   "metadata": {},
   "source": [
    "##### List Comprehension\n",
    "\n",
    "Basics Syantax            [expression for item in iterable]\n",
    "\n",
    "with conditional logic    [expression for item in iterable if condition]\n",
    "\n",
    "Nested List Comprehension [expression for item1 in iterable1 for item2 in iterable2]\n",
    "\n",
    "\n"
   ]
  },
  {
   "cell_type": "code",
   "execution_count": null,
   "metadata": {},
   "outputs": [
    {
     "name": "stdout",
     "output_type": "stream",
     "text": [
      "[0, 1, 4, 9, 16, 25, 36, 49, 64, 81]\n"
     ]
    }
   ],
   "source": [
    "### Basic List Comphrension\n",
    "\n",
    "def squaree(i):\n",
    "    return i**2\n",
    "\n",
    "sqaure=[squaree(num) for num in range(10)]\n",
    "print(sqaure)"
   ]
  },
  {
   "cell_type": "code",
   "execution_count": null,
   "metadata": {},
   "outputs": [],
   "source": [
    "### List Comprehension with Condition\n",
    "lst=[]\n",
    "for i in range(10):\n",
    "    if i%2==0:\n",
    "        lst.append(i)\n",
    "\n",
    "print(lst)\n",
    "        "
   ]
  },
  {
   "cell_type": "code",
   "execution_count": null,
   "metadata": {},
   "outputs": [],
   "source": [
    "even_numbers=[num for num in range(10) if num%2==0]\n",
    "print(even_numbers)"
   ]
  },
  {
   "cell_type": "code",
   "execution_count": null,
   "metadata": {},
   "outputs": [
    {
     "name": "stdout",
     "output_type": "stream",
     "text": [
      "[[1, 'a'], [1, 'b'], [1, 'c'], [1, 'd'], [2, 'a'], [2, 'b'], [2, 'c'], [2, 'd'], [3, 'a'], [3, 'b'], [3, 'c'], [3, 'd'], [4, 'a'], [4, 'b'], [4, 'c'], [4, 'd']]\n"
     ]
    }
   ],
   "source": [
    "## Nested List Comphrension\n",
    "\n",
    "lst1=[1,2,3,4]\n",
    "lst2=['a','b','c','d']\n",
    "\n",
    "pair=[[i,j] for i in lst1 for j in lst2]\n",
    "\n",
    "print(pair)\n"
   ]
  },
  {
   "cell_type": "code",
   "execution_count": null,
   "metadata": {},
   "outputs": [
    {
     "name": "stdout",
     "output_type": "stream",
     "text": [
      "[5, 5, 6, 4, 13]\n"
     ]
    }
   ],
   "source": [
    "## List Comprehension with function calls\n",
    "words = [\"hello\", \"world\", \"python\", \"list\", \"comprehension\"]\n",
    "lengths = [len(i) for i in words]\n",
    "print(lengths)  # Output: [5, 5, 6, 4, 13]\n",
    "\n"
   ]
  },
  {
   "cell_type": "markdown",
   "metadata": {},
   "source": [
    "### Task 1: Power-Up Collector  \n",
    "In a simple game, the player collects \"power-ups\" from different levels.  \n",
    "- You are given a list of points collected by the player in each level:  \n",
    "  ```python\n",
    "  levels = [50, 100, 0, 200, 0, 150]\n",
    "\n",
    "Use **list comprehension** to create a new list that replaces all `0` points with the string `\"No Power-Up\"` and keeps the other values unchanged, e.g., `[50, 100, 'No Power-Up', 200, 'No Power-Up', 150]`.\n"
   ]
  },
  {
   "cell_type": "code",
   "execution_count": null,
   "metadata": {},
   "outputs": [
    {
     "name": "stdout",
     "output_type": "stream",
     "text": [
      "[50, 'No Power Up', 'No Power Up', 200, 'No Power Up', 150]\n"
     ]
    }
   ],
   "source": [
    "levels = [50, 0, 0, 200, 0, 150]\n",
    "\n",
    "levels2 = []\n",
    "\n",
    "for i in levels:\n",
    "    if i == 0:\n",
    "        levels2.append(\"No Power Up\")\n",
    "    else:\n",
    "        levels2.append(i)\n",
    "print(levels2)\n"
   ]
  },
  {
   "cell_type": "code",
   "execution_count": null,
   "metadata": {},
   "outputs": [
    {
     "data": {
      "text/plain": [
       "[50, 'No Power Up', 'No Power Up', 200, 'No Power Up', 150]"
      ]
     },
     "execution_count": 59,
     "metadata": {},
     "output_type": "execute_result"
    }
   ],
   "source": [
    "[\"No Power Up\" if i == 0 else i for i in levels]"
   ]
  },
  {
   "cell_type": "markdown",
   "metadata": {},
   "source": [
    "### Task: Emoji Counter  \n",
    "You are designing a tool for a social media platform to analyze emoji usage.  \n",
    "\n",
    "#### Instructions:\n",
    "1. You are given a list of messages containing emojis:  \n",
    "   ```python\n",
    "   messages = ['😊🎉', 'Hi there! 😊', 'No emojis here!', '🔥🔥😊']\n",
    "\n",
    "2. Use **list comprehension** to:  \n",
    "  - Count how many emojis are in each message.  \n",
    "  - Create a new list of counts, e.g., `[2, 1, 0, 3]`.\n",
    "\n",
    "- **Bonus Challenge:**  \n",
    "  - Filter out messages with no emojis and store them in a separate list.\n"
   ]
  },
  {
   "cell_type": "code",
   "execution_count": null,
   "metadata": {},
   "outputs": [
    {
     "name": "stdout",
     "output_type": "stream",
     "text": [
      "1\n"
     ]
    }
   ],
   "source": [
    "from emojis import (\n",
    "    is_emoji, emoji_count,\n",
    "    get_emoji_from_name, get_emoji_from_hexcode, get_emoji_from_shortcode, get_emoji_from_order,\n",
    "    get_all_emojis, emojize, demojize,\n",
    "    get_group, get_subgroup, get_all_groups, get_all_subgroups,\n",
    "    emoji_kitchen, search_emojis, Emoji\n",
    ")\n",
    "\n",
    "# Check if a character is an emoji\n",
    "print(emoji_count(\"Hi there! 😊\"))  # True"
   ]
  },
  {
   "cell_type": "code",
   "execution_count": null,
   "metadata": {},
   "outputs": [
    {
     "name": "stdout",
     "output_type": "stream",
     "text": [
      "[2, 1, 0, 3]\n"
     ]
    }
   ],
   "source": [
    "messages = ['😊🎉', 'Hi there! 😊', 'No emojis here!', '🔥🔥😊']\n",
    "count = []\n",
    "for i in messages:\n",
    "    count.append(emoji_count(i))\n",
    "    \n",
    "print(count) "
   ]
  },
  {
   "cell_type": "markdown",
   "metadata": {},
   "source": [
    "#### Conclusion\n",
    "List comprehensions are a powerful and concise way to create lists in Python. They are syntactically compact and can replace more verbose looping constructs. Understanding the syntax of list comprehensions will help you write cleaner and more efficient Python code."
   ]
  },
  {
   "cell_type": "code",
   "execution_count": null,
   "metadata": {},
   "outputs": [
    {
     "name": "stdout",
     "output_type": "stream",
     "text": [
      "['1a', '2b', '3c', '4d']\n"
     ]
    }
   ],
   "source": [
    "list1 = [1, 2, 3, 4]\n",
    "list2 = ['a', 'b', 'c', 'd']\n",
    "\n",
    "list3 = []\n",
    "\n",
    "for i in range(len(list1)):\n",
    "    list3.append(str(list1[i]) + str(list2[i]))\n",
    "\n",
    "print(list3)"
   ]
  },
  {
   "cell_type": "code",
   "execution_count": null,
   "metadata": {},
   "outputs": [
    {
     "name": "stdout",
     "output_type": "stream",
     "text": [
      "['1a', '2b', '3c', '4d']\n"
     ]
    }
   ],
   "source": [
    "list4 = [1,2,3,4]\n",
    "list5 = ['a','b','c','d']\n",
    "\n",
    "list6 =[]\n",
    "\n",
    "for i in range(len(list4)):\n",
    "    list6.append(str(list4[i])+ list5[i])\n",
    "\n",
    "print(list6)"
   ]
  },
  {
   "cell_type": "code",
   "execution_count": 168,
   "metadata": {},
   "outputs": [
    {
     "data": {
      "text/plain": [
       "['1a', '2b', '3c', '4d']"
      ]
     },
     "execution_count": 168,
     "metadata": {},
     "output_type": "execute_result"
    }
   ],
   "source": [
    "list4 = [1,2,3,4]\n",
    "list5 = ['a','b','c','d']\n",
    "\n",
    "list6 =[]\n",
    "\n",
    "list6 = [str(list4[i])+list5[i] for i in range(len(list4))]\n",
    "list6"
   ]
  },
  {
   "cell_type": "code",
   "execution_count": 169,
   "metadata": {},
   "outputs": [
    {
     "data": {
      "text/plain": [
       "['EVEN', 'ODD', 'EVEN', 'ODD', 'EVEN']"
      ]
     },
     "execution_count": 169,
     "metadata": {},
     "output_type": "execute_result"
    }
   ],
   "source": [
    "list = [10,15,20,25,346]\n",
    "listEVorODD = []\n",
    "\n",
    "for i in list:\n",
    "    if(i%2==0):\n",
    "        listEVorODD.append(\"EVEN\")\n",
    "    else:\n",
    "        listEVorODD.append(\"ODD\")\n",
    "listEVorODD"
   ]
  },
  {
   "cell_type": "code",
   "execution_count": 171,
   "metadata": {},
   "outputs": [
    {
     "name": "stdout",
     "output_type": "stream",
     "text": [
      "['EVEN', 'ODD', 'EVEN', 'ODD', 'EVEN']\n"
     ]
    }
   ],
   "source": [
    "list = [10,15,20,25,346]\n",
    "listEVorODD = []\n",
    "\n",
    "listEVorODD = [\"EVEN\" if i%2==0  else \"ODD\" for i in list]\n",
    "print(listEVorODD)"
   ]
  },
  {
   "cell_type": "code",
   "execution_count": 184,
   "metadata": {},
   "outputs": [
    {
     "name": "stdout",
     "output_type": "stream",
     "text": [
      "{'u': 1}\n"
     ]
    }
   ],
   "source": [
    "text = 'shafinmishu'\n",
    "\n",
    "unique_letters = []\n",
    "freq={}\n",
    "\n",
    "for i in text:\n",
    "    if i not in unique_letters:\n",
    "        unique_letters.append(i)\n",
    "    \n",
    "for ch in unique_letters:\n",
    "    freq = {ch:text.count(ch)}\n",
    "    \n",
    "print(freq)"
   ]
  },
  {
   "cell_type": "code",
   "execution_count": 187,
   "metadata": {},
   "outputs": [
    {
     "name": "stdout",
     "output_type": "stream",
     "text": [
      "{'s': 2, 'h': 2, 'a': 1, 'f': 1, 'i': 2, 'n': 1, 'm': 1, 'u': 1}\n"
     ]
    }
   ],
   "source": [
    "text = 'shafinmishu'\n",
    "\n",
    "unique_letters = []\n",
    "freq={}\n",
    "\n",
    "for i in text:\n",
    "    if i not in unique_letters:\n",
    "        unique_letters.append(i)\n",
    "\n",
    "freq = {ch:text.count(ch) for ch in unique_letters}\n",
    "\n",
    "print(freq)"
   ]
  }
 ],
 "metadata": {
  "kernelspec": {
   "display_name": ".venv",
   "language": "python",
   "name": "python3"
  },
  "language_info": {
   "codemirror_mode": {
    "name": "ipython",
    "version": 3
   },
   "file_extension": ".py",
   "mimetype": "text/x-python",
   "name": "python",
   "nbconvert_exporter": "python",
   "pygments_lexer": "ipython3",
   "version": "3.13.6"
  }
 },
 "nbformat": 4,
 "nbformat_minor": 2
}
